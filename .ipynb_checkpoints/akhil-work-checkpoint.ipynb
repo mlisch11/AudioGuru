{
 "cells": [
  {
   "cell_type": "markdown",
   "id": "d824eb15",
   "metadata": {},
   "source": [
    "# Introduction"
   ]
  },
  {
   "cell_type": "markdown",
   "id": "33df455b",
   "metadata": {},
   "source": [
    "At some point or another, almost every human being has interacted with music to some capacity, and technology has bolstered the scale of this interaction and the way that we percieve music. Whether it be through DJing software such as Rekordbox & Serato, streaming services like Spotify and Apple Music, or Digital Audio Workspaces like Ableton and Praat, these days we have easy access to applications that perform music analysis. In this tutorial we aim to recreate the process of genre classification akin to those found in the afformentioned applications."
   ]
  },
  {
   "cell_type": "code",
   "execution_count": null,
   "id": "63261210",
   "metadata": {},
   "outputs": [],
   "source": []
  }
 ],
 "metadata": {
  "kernelspec": {
   "display_name": "Python 3 (ipykernel)",
   "language": "python",
   "name": "python3"
  },
  "language_info": {
   "codemirror_mode": {
    "name": "ipython",
    "version": 3
   },
   "file_extension": ".py",
   "mimetype": "text/x-python",
   "name": "python",
   "nbconvert_exporter": "python",
   "pygments_lexer": "ipython3",
   "version": "3.9.15"
  }
 },
 "nbformat": 4,
 "nbformat_minor": 5
}
