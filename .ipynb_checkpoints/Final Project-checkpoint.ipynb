{
 "cells": [
  {
   "cell_type": "markdown",
   "id": "d55c1ab3",
   "metadata": {},
   "source": [
    "# Music Genre Classification\n",
    "##### By: Akhil Kammell, Matthew Lischin"
   ]
  },
  {
   "cell_type": "markdown",
   "id": "f4b61441",
   "metadata": {},
   "source": [
    "## Introduction\n",
    "\n",
    "At some point or another, almost every human being has interacted with music to some capacity, and technology has bolstered the scale of this interaction and the way that we percieve music. Whether it be through DJing software such as Rekordbox & Serato, streaming services like Spotify and Apple Music, or Digital Audio Workspaces like Ableton and Praat, these days we have easy access to applications that perform music analysis. In this tutorial we aim to recreate the process of genre classification akin to those found in the afformentioned applications."
   ]
  },
  {
   "cell_type": "markdown",
   "id": "d37a4206",
   "metadata": {},
   "source": [
    "## Data Curation, Parsing, and Management\n",
    "\n",
    "In order to begin our quest at music genre classification, we found a large dataset by Andrada Olreanu called \"GTZAN Dataset.\" The set contains 1,000 songs. There are 100 songs from each of 10 genres (blues, classical, country, disco, hiphop, jazz, metal, pop, reggae, rock) and each song is clipped into just a 30-second piece. "
   ]
  },
  {
   "cell_type": "code",
   "execution_count": null,
   "id": "58cba48e",
   "metadata": {},
   "outputs": [],
   "source": []
  }
 ],
 "metadata": {
  "kernelspec": {
   "display_name": "Python 3 (ipykernel)",
   "language": "python",
   "name": "python3"
  },
  "language_info": {
   "codemirror_mode": {
    "name": "ipython",
    "version": 3
   },
   "file_extension": ".py",
   "mimetype": "text/x-python",
   "name": "python",
   "nbconvert_exporter": "python",
   "pygments_lexer": "ipython3",
   "version": "3.9.15"
  }
 },
 "nbformat": 4,
 "nbformat_minor": 5
}
