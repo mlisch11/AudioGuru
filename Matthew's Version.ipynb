{
 "cells": [
  {
   "cell_type": "markdown",
   "id": "fb83dadc",
   "metadata": {},
   "source": [
    "# Music Genre Classification\n",
    "##### By: Akhil Kammell, Matthew Lischin"
   ]
  },
  {
   "cell_type": "markdown",
   "id": "40e8abe1",
   "metadata": {},
   "source": [
    "### Introduction\n",
    "\n",
    "The genre of a song is one of the most important classifications that a song can have. Boundaries of genre help listeners know what to expect when listening to a new playlist, artist, album, or "
   ]
  },
  {
   "cell_type": "code",
   "execution_count": null,
   "id": "ad8a8bd5",
   "metadata": {},
   "outputs": [],
   "source": []
  },
  {
   "cell_type": "code",
   "execution_count": null,
   "id": "29093433",
   "metadata": {},
   "outputs": [],
   "source": []
  },
  {
   "cell_type": "code",
   "execution_count": null,
   "id": "033c7c0a",
   "metadata": {},
   "outputs": [],
   "source": []
  },
  {
   "cell_type": "markdown",
   "id": "264bb26f",
   "metadata": {},
   "source": [
    "## Data Curation, Parsing, and Management\n",
    "\n",
    "In order to begin our quest at music genre classification, we found a large dataset by Andrada Olreanu called \"GTZAN Dataset.\" The set contains 1,000 songs. There are 100 songs from each of 10 genres (blues, classical, country, disco, hiphop, jazz, metal, pop, reggae, rock) and each song is clipped into just a 30-second piece. "
   ]
  }
 ],
 "metadata": {
  "kernelspec": {
   "display_name": "Python 3 (ipykernel)",
   "language": "python",
   "name": "python3"
  },
  "language_info": {
   "codemirror_mode": {
    "name": "ipython",
    "version": 3
   },
   "file_extension": ".py",
   "mimetype": "text/x-python",
   "name": "python",
   "nbconvert_exporter": "python",
   "pygments_lexer": "ipython3",
   "version": "3.9.12"
  }
 },
 "nbformat": 4,
 "nbformat_minor": 5
}
